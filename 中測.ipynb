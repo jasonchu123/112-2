{
 "cells": [
  {
   "cell_type": "code",
   "execution_count": 1,
   "id": "57f7bce1",
   "metadata": {},
   "outputs": [
    {
     "name": "stdout",
     "output_type": "stream",
     "text": [
      "   Age          Workclass  Income   Education  Education-Num  \\\n",
      "0   39          State-gov   77516   Bachelors             13   \n",
      "1   50   Self-emp-not-inc   83311   Bachelors             13   \n",
      "2   38            Private  215646     HS-grad              9   \n",
      "3   53            Private  234721        11th              7   \n",
      "4   28            Private  338409   Bachelors             13   \n",
      "\n",
      "        Marital Status          Occupation    Relationship    Race      Sex  \\\n",
      "0        Never-married        Adm-clerical   Not-in-family   White     Male   \n",
      "1   Married-civ-spouse     Exec-managerial         Husband   White     Male   \n",
      "2             Divorced   Handlers-cleaners   Not-in-family   White     Male   \n",
      "3   Married-civ-spouse   Handlers-cleaners         Husband   Black     Male   \n",
      "4   Married-civ-spouse      Prof-specialty            Wife   Black   Female   \n",
      "\n",
      "   Capital Gain  Capital Loss  Hours per Week  Native Country  \n",
      "0          2174             0              40   United-States  \n",
      "1             0             0              13   United-States  \n",
      "2             0             0              40   United-States  \n",
      "3             0             0              40   United-States  \n",
      "4             0             0              40            Cuba  \n",
      "平均薪資: 189778.36651208502\n",
      "薪資標準差: 105548.3568808909\n",
      "薪資中位數: 178356.0\n"
     ]
    }
   ],
   "source": [
    "import pandas as pd\n",
    "import numpy as np\n",
    "\n",
    "# 讀取csv數據並創建DataFrame\n",
    "data = pd.read_csv(\"adult.csv\")\n",
    "\n",
    "# 顯示前幾行數據\n",
    "print(data.head())\n",
    "\n",
    "# 使用NumPy進行薪資統計\n",
    "income = data['Income']\n",
    "\n",
    "# 薪資平均值\n",
    "mean_income = np.mean(income)\n",
    "print(\"平均薪資:\", mean_income)\n",
    "\n",
    "# 薪資標準差\n",
    "std_income = np.std(income)\n",
    "print(\"薪資標準差:\", std_income)\n",
    "\n",
    "# 薪資中位數\n",
    "median_income = np.median(income)\n",
    "print(\"薪資中位數:\", median_income)"
   ]
  },
  {
   "cell_type": "code",
   "execution_count": null,
   "id": "41644df2",
   "metadata": {},
   "outputs": [],
   "source": []
  }
 ],
 "metadata": {
  "kernelspec": {
   "display_name": "Python 3 (ipykernel)",
   "language": "python",
   "name": "python3"
  },
  "language_info": {
   "codemirror_mode": {
    "name": "ipython",
    "version": 3
   },
   "file_extension": ".py",
   "mimetype": "text/x-python",
   "name": "python",
   "nbconvert_exporter": "python",
   "pygments_lexer": "ipython3",
   "version": "3.11.5"
  }
 },
 "nbformat": 4,
 "nbformat_minor": 5
}
