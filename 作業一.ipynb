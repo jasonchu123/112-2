{
 "cells": [
  {
   "cell_type": "code",
   "execution_count": 1,
   "id": "83b8beb7",
   "metadata": {},
   "outputs": [
    {
     "ename": "FileNotFoundError",
     "evalue": "[Errno 2] No such file or directory: '/授課方式%2C姓名%2C學校.csv'",
     "output_type": "error",
     "traceback": [
      "\u001b[1;31m---------------------------------------------------------------------------\u001b[0m",
      "\u001b[1;31mFileNotFoundError\u001b[0m                         Traceback (most recent call last)",
      "Cell \u001b[1;32mIn[1], line 3\u001b[0m\n\u001b[0;32m      1\u001b[0m \u001b[38;5;28;01mimport\u001b[39;00m \u001b[38;5;21;01mpandas\u001b[39;00m \u001b[38;5;28;01mas\u001b[39;00m \u001b[38;5;21;01mpd\u001b[39;00m\n\u001b[1;32m----> 3\u001b[0m df_csv \u001b[38;5;241m=\u001b[39m pd\u001b[38;5;241m.\u001b[39mread_csv(\u001b[38;5;124m\"\u001b[39m\u001b[38;5;124m/授課方式\u001b[39m\u001b[38;5;124m%\u001b[39m\u001b[38;5;124m2C姓名\u001b[39m\u001b[38;5;124m%\u001b[39m\u001b[38;5;124m2C學校.csv\u001b[39m\u001b[38;5;124m\"\u001b[39m)\n\u001b[0;32m      5\u001b[0m display(df_csv)\n",
      "File \u001b[1;32m~\\anaconda3\\Lib\\site-packages\\pandas\\io\\parsers\\readers.py:912\u001b[0m, in \u001b[0;36mread_csv\u001b[1;34m(filepath_or_buffer, sep, delimiter, header, names, index_col, usecols, dtype, engine, converters, true_values, false_values, skipinitialspace, skiprows, skipfooter, nrows, na_values, keep_default_na, na_filter, verbose, skip_blank_lines, parse_dates, infer_datetime_format, keep_date_col, date_parser, date_format, dayfirst, cache_dates, iterator, chunksize, compression, thousands, decimal, lineterminator, quotechar, quoting, doublequote, escapechar, comment, encoding, encoding_errors, dialect, on_bad_lines, delim_whitespace, low_memory, memory_map, float_precision, storage_options, dtype_backend)\u001b[0m\n\u001b[0;32m    899\u001b[0m kwds_defaults \u001b[38;5;241m=\u001b[39m _refine_defaults_read(\n\u001b[0;32m    900\u001b[0m     dialect,\n\u001b[0;32m    901\u001b[0m     delimiter,\n\u001b[1;32m   (...)\u001b[0m\n\u001b[0;32m    908\u001b[0m     dtype_backend\u001b[38;5;241m=\u001b[39mdtype_backend,\n\u001b[0;32m    909\u001b[0m )\n\u001b[0;32m    910\u001b[0m kwds\u001b[38;5;241m.\u001b[39mupdate(kwds_defaults)\n\u001b[1;32m--> 912\u001b[0m \u001b[38;5;28;01mreturn\u001b[39;00m _read(filepath_or_buffer, kwds)\n",
      "File \u001b[1;32m~\\anaconda3\\Lib\\site-packages\\pandas\\io\\parsers\\readers.py:577\u001b[0m, in \u001b[0;36m_read\u001b[1;34m(filepath_or_buffer, kwds)\u001b[0m\n\u001b[0;32m    574\u001b[0m _validate_names(kwds\u001b[38;5;241m.\u001b[39mget(\u001b[38;5;124m\"\u001b[39m\u001b[38;5;124mnames\u001b[39m\u001b[38;5;124m\"\u001b[39m, \u001b[38;5;28;01mNone\u001b[39;00m))\n\u001b[0;32m    576\u001b[0m \u001b[38;5;66;03m# Create the parser.\u001b[39;00m\n\u001b[1;32m--> 577\u001b[0m parser \u001b[38;5;241m=\u001b[39m TextFileReader(filepath_or_buffer, \u001b[38;5;241m*\u001b[39m\u001b[38;5;241m*\u001b[39mkwds)\n\u001b[0;32m    579\u001b[0m \u001b[38;5;28;01mif\u001b[39;00m chunksize \u001b[38;5;129;01mor\u001b[39;00m iterator:\n\u001b[0;32m    580\u001b[0m     \u001b[38;5;28;01mreturn\u001b[39;00m parser\n",
      "File \u001b[1;32m~\\anaconda3\\Lib\\site-packages\\pandas\\io\\parsers\\readers.py:1407\u001b[0m, in \u001b[0;36mTextFileReader.__init__\u001b[1;34m(self, f, engine, **kwds)\u001b[0m\n\u001b[0;32m   1404\u001b[0m     \u001b[38;5;28mself\u001b[39m\u001b[38;5;241m.\u001b[39moptions[\u001b[38;5;124m\"\u001b[39m\u001b[38;5;124mhas_index_names\u001b[39m\u001b[38;5;124m\"\u001b[39m] \u001b[38;5;241m=\u001b[39m kwds[\u001b[38;5;124m\"\u001b[39m\u001b[38;5;124mhas_index_names\u001b[39m\u001b[38;5;124m\"\u001b[39m]\n\u001b[0;32m   1406\u001b[0m \u001b[38;5;28mself\u001b[39m\u001b[38;5;241m.\u001b[39mhandles: IOHandles \u001b[38;5;241m|\u001b[39m \u001b[38;5;28;01mNone\u001b[39;00m \u001b[38;5;241m=\u001b[39m \u001b[38;5;28;01mNone\u001b[39;00m\n\u001b[1;32m-> 1407\u001b[0m \u001b[38;5;28mself\u001b[39m\u001b[38;5;241m.\u001b[39m_engine \u001b[38;5;241m=\u001b[39m \u001b[38;5;28mself\u001b[39m\u001b[38;5;241m.\u001b[39m_make_engine(f, \u001b[38;5;28mself\u001b[39m\u001b[38;5;241m.\u001b[39mengine)\n",
      "File \u001b[1;32m~\\anaconda3\\Lib\\site-packages\\pandas\\io\\parsers\\readers.py:1661\u001b[0m, in \u001b[0;36mTextFileReader._make_engine\u001b[1;34m(self, f, engine)\u001b[0m\n\u001b[0;32m   1659\u001b[0m     \u001b[38;5;28;01mif\u001b[39;00m \u001b[38;5;124m\"\u001b[39m\u001b[38;5;124mb\u001b[39m\u001b[38;5;124m\"\u001b[39m \u001b[38;5;129;01mnot\u001b[39;00m \u001b[38;5;129;01min\u001b[39;00m mode:\n\u001b[0;32m   1660\u001b[0m         mode \u001b[38;5;241m+\u001b[39m\u001b[38;5;241m=\u001b[39m \u001b[38;5;124m\"\u001b[39m\u001b[38;5;124mb\u001b[39m\u001b[38;5;124m\"\u001b[39m\n\u001b[1;32m-> 1661\u001b[0m \u001b[38;5;28mself\u001b[39m\u001b[38;5;241m.\u001b[39mhandles \u001b[38;5;241m=\u001b[39m get_handle(\n\u001b[0;32m   1662\u001b[0m     f,\n\u001b[0;32m   1663\u001b[0m     mode,\n\u001b[0;32m   1664\u001b[0m     encoding\u001b[38;5;241m=\u001b[39m\u001b[38;5;28mself\u001b[39m\u001b[38;5;241m.\u001b[39moptions\u001b[38;5;241m.\u001b[39mget(\u001b[38;5;124m\"\u001b[39m\u001b[38;5;124mencoding\u001b[39m\u001b[38;5;124m\"\u001b[39m, \u001b[38;5;28;01mNone\u001b[39;00m),\n\u001b[0;32m   1665\u001b[0m     compression\u001b[38;5;241m=\u001b[39m\u001b[38;5;28mself\u001b[39m\u001b[38;5;241m.\u001b[39moptions\u001b[38;5;241m.\u001b[39mget(\u001b[38;5;124m\"\u001b[39m\u001b[38;5;124mcompression\u001b[39m\u001b[38;5;124m\"\u001b[39m, \u001b[38;5;28;01mNone\u001b[39;00m),\n\u001b[0;32m   1666\u001b[0m     memory_map\u001b[38;5;241m=\u001b[39m\u001b[38;5;28mself\u001b[39m\u001b[38;5;241m.\u001b[39moptions\u001b[38;5;241m.\u001b[39mget(\u001b[38;5;124m\"\u001b[39m\u001b[38;5;124mmemory_map\u001b[39m\u001b[38;5;124m\"\u001b[39m, \u001b[38;5;28;01mFalse\u001b[39;00m),\n\u001b[0;32m   1667\u001b[0m     is_text\u001b[38;5;241m=\u001b[39mis_text,\n\u001b[0;32m   1668\u001b[0m     errors\u001b[38;5;241m=\u001b[39m\u001b[38;5;28mself\u001b[39m\u001b[38;5;241m.\u001b[39moptions\u001b[38;5;241m.\u001b[39mget(\u001b[38;5;124m\"\u001b[39m\u001b[38;5;124mencoding_errors\u001b[39m\u001b[38;5;124m\"\u001b[39m, \u001b[38;5;124m\"\u001b[39m\u001b[38;5;124mstrict\u001b[39m\u001b[38;5;124m\"\u001b[39m),\n\u001b[0;32m   1669\u001b[0m     storage_options\u001b[38;5;241m=\u001b[39m\u001b[38;5;28mself\u001b[39m\u001b[38;5;241m.\u001b[39moptions\u001b[38;5;241m.\u001b[39mget(\u001b[38;5;124m\"\u001b[39m\u001b[38;5;124mstorage_options\u001b[39m\u001b[38;5;124m\"\u001b[39m, \u001b[38;5;28;01mNone\u001b[39;00m),\n\u001b[0;32m   1670\u001b[0m )\n\u001b[0;32m   1671\u001b[0m \u001b[38;5;28;01massert\u001b[39;00m \u001b[38;5;28mself\u001b[39m\u001b[38;5;241m.\u001b[39mhandles \u001b[38;5;129;01mis\u001b[39;00m \u001b[38;5;129;01mnot\u001b[39;00m \u001b[38;5;28;01mNone\u001b[39;00m\n\u001b[0;32m   1672\u001b[0m f \u001b[38;5;241m=\u001b[39m \u001b[38;5;28mself\u001b[39m\u001b[38;5;241m.\u001b[39mhandles\u001b[38;5;241m.\u001b[39mhandle\n",
      "File \u001b[1;32m~\\anaconda3\\Lib\\site-packages\\pandas\\io\\common.py:859\u001b[0m, in \u001b[0;36mget_handle\u001b[1;34m(path_or_buf, mode, encoding, compression, memory_map, is_text, errors, storage_options)\u001b[0m\n\u001b[0;32m    854\u001b[0m \u001b[38;5;28;01melif\u001b[39;00m \u001b[38;5;28misinstance\u001b[39m(handle, \u001b[38;5;28mstr\u001b[39m):\n\u001b[0;32m    855\u001b[0m     \u001b[38;5;66;03m# Check whether the filename is to be opened in binary mode.\u001b[39;00m\n\u001b[0;32m    856\u001b[0m     \u001b[38;5;66;03m# Binary mode does not support 'encoding' and 'newline'.\u001b[39;00m\n\u001b[0;32m    857\u001b[0m     \u001b[38;5;28;01mif\u001b[39;00m ioargs\u001b[38;5;241m.\u001b[39mencoding \u001b[38;5;129;01mand\u001b[39;00m \u001b[38;5;124m\"\u001b[39m\u001b[38;5;124mb\u001b[39m\u001b[38;5;124m\"\u001b[39m \u001b[38;5;129;01mnot\u001b[39;00m \u001b[38;5;129;01min\u001b[39;00m ioargs\u001b[38;5;241m.\u001b[39mmode:\n\u001b[0;32m    858\u001b[0m         \u001b[38;5;66;03m# Encoding\u001b[39;00m\n\u001b[1;32m--> 859\u001b[0m         handle \u001b[38;5;241m=\u001b[39m \u001b[38;5;28mopen\u001b[39m(\n\u001b[0;32m    860\u001b[0m             handle,\n\u001b[0;32m    861\u001b[0m             ioargs\u001b[38;5;241m.\u001b[39mmode,\n\u001b[0;32m    862\u001b[0m             encoding\u001b[38;5;241m=\u001b[39mioargs\u001b[38;5;241m.\u001b[39mencoding,\n\u001b[0;32m    863\u001b[0m             errors\u001b[38;5;241m=\u001b[39merrors,\n\u001b[0;32m    864\u001b[0m             newline\u001b[38;5;241m=\u001b[39m\u001b[38;5;124m\"\u001b[39m\u001b[38;5;124m\"\u001b[39m,\n\u001b[0;32m    865\u001b[0m         )\n\u001b[0;32m    866\u001b[0m     \u001b[38;5;28;01melse\u001b[39;00m:\n\u001b[0;32m    867\u001b[0m         \u001b[38;5;66;03m# Binary mode\u001b[39;00m\n\u001b[0;32m    868\u001b[0m         handle \u001b[38;5;241m=\u001b[39m \u001b[38;5;28mopen\u001b[39m(handle, ioargs\u001b[38;5;241m.\u001b[39mmode)\n",
      "\u001b[1;31mFileNotFoundError\u001b[0m: [Errno 2] No such file or directory: '/授課方式%2C姓名%2C學校.csv'"
     ]
    }
   ],
   "source": [
    "import pandas as pd\n",
    "\n",
    "df_csv = pd.read_csv(\"http://localhost:8888/edit/%E6%8E%88%E8%AA%B2%E6%96%B9%E5%BC%8F%2C%E5%A7%93%E5%90%8D%2C%E5%AD%B8%E6%A0%A1.csv\")\n",
    "\n",
    "display(df_csv)"
   ]
  },
  {
   "cell_type": "code",
   "execution_count": 2,
   "id": "73944096",
   "metadata": {},
   "outputs": [
    {
     "ename": "ParserError",
     "evalue": "Error tokenizing data. C error: Expected 1 fields in line 12, saw 2\n",
     "output_type": "error",
     "traceback": [
      "\u001b[1;31m---------------------------------------------------------------------------\u001b[0m",
      "\u001b[1;31mParserError\u001b[0m                               Traceback (most recent call last)",
      "Cell \u001b[1;32mIn[2], line 3\u001b[0m\n\u001b[0;32m      1\u001b[0m \u001b[38;5;28;01mimport\u001b[39;00m \u001b[38;5;21;01mpandas\u001b[39;00m \u001b[38;5;28;01mas\u001b[39;00m \u001b[38;5;21;01mpd\u001b[39;00m\n\u001b[1;32m----> 3\u001b[0m df_csv \u001b[38;5;241m=\u001b[39m pd\u001b[38;5;241m.\u001b[39mread_csv(\u001b[38;5;124m\"\u001b[39m\u001b[38;5;124mhttp://localhost:8888/edit/\u001b[39m\u001b[38;5;132;01m%E\u001b[39;00m\u001b[38;5;124m6\u001b[39m\u001b[38;5;132;01m%8E\u001b[39;00m\u001b[38;5;132;01m%88%\u001b[39;00m\u001b[38;5;124mE8\u001b[39m\u001b[38;5;124m%\u001b[39m\u001b[38;5;124mAA\u001b[39m\u001b[38;5;124m%\u001b[39m\u001b[38;5;124mB2\u001b[39m\u001b[38;5;132;01m%E\u001b[39;00m\u001b[38;5;124m6\u001b[39m\u001b[38;5;132;01m%96%\u001b[39;00m\u001b[38;5;124mB9\u001b[39m\u001b[38;5;132;01m%E\u001b[39;00m\u001b[38;5;124m5\u001b[39m\u001b[38;5;124m%\u001b[39m\u001b[38;5;124mBC\u001b[39m\u001b[38;5;132;01m%8F\u001b[39;00m\u001b[38;5;124m%\u001b[39m\u001b[38;5;124m2C\u001b[39m\u001b[38;5;132;01m%E\u001b[39;00m\u001b[38;5;124m5\u001b[39m\u001b[38;5;124m%\u001b[39m\u001b[38;5;124mA7\u001b[39m\u001b[38;5;132;01m%93%\u001b[39;00m\u001b[38;5;124mE5\u001b[39m\u001b[38;5;132;01m%90%\u001b[39;00m\u001b[38;5;124m8D\u001b[39m\u001b[38;5;124m%\u001b[39m\u001b[38;5;124m2C\u001b[39m\u001b[38;5;132;01m%E\u001b[39;00m\u001b[38;5;124m5\u001b[39m\u001b[38;5;124m%\u001b[39m\u001b[38;5;124mAD\u001b[39m\u001b[38;5;124m%\u001b[39m\u001b[38;5;124mB8\u001b[39m\u001b[38;5;132;01m%E\u001b[39;00m\u001b[38;5;124m6\u001b[39m\u001b[38;5;124m%\u001b[39m\u001b[38;5;124mA0\u001b[39m\u001b[38;5;124m%\u001b[39m\u001b[38;5;124mA1.csv\u001b[39m\u001b[38;5;124m\"\u001b[39m)\n\u001b[0;32m      5\u001b[0m display(df_csv)\n",
      "File \u001b[1;32m~\\anaconda3\\Lib\\site-packages\\pandas\\io\\parsers\\readers.py:912\u001b[0m, in \u001b[0;36mread_csv\u001b[1;34m(filepath_or_buffer, sep, delimiter, header, names, index_col, usecols, dtype, engine, converters, true_values, false_values, skipinitialspace, skiprows, skipfooter, nrows, na_values, keep_default_na, na_filter, verbose, skip_blank_lines, parse_dates, infer_datetime_format, keep_date_col, date_parser, date_format, dayfirst, cache_dates, iterator, chunksize, compression, thousands, decimal, lineterminator, quotechar, quoting, doublequote, escapechar, comment, encoding, encoding_errors, dialect, on_bad_lines, delim_whitespace, low_memory, memory_map, float_precision, storage_options, dtype_backend)\u001b[0m\n\u001b[0;32m    899\u001b[0m kwds_defaults \u001b[38;5;241m=\u001b[39m _refine_defaults_read(\n\u001b[0;32m    900\u001b[0m     dialect,\n\u001b[0;32m    901\u001b[0m     delimiter,\n\u001b[1;32m   (...)\u001b[0m\n\u001b[0;32m    908\u001b[0m     dtype_backend\u001b[38;5;241m=\u001b[39mdtype_backend,\n\u001b[0;32m    909\u001b[0m )\n\u001b[0;32m    910\u001b[0m kwds\u001b[38;5;241m.\u001b[39mupdate(kwds_defaults)\n\u001b[1;32m--> 912\u001b[0m \u001b[38;5;28;01mreturn\u001b[39;00m _read(filepath_or_buffer, kwds)\n",
      "File \u001b[1;32m~\\anaconda3\\Lib\\site-packages\\pandas\\io\\parsers\\readers.py:583\u001b[0m, in \u001b[0;36m_read\u001b[1;34m(filepath_or_buffer, kwds)\u001b[0m\n\u001b[0;32m    580\u001b[0m     \u001b[38;5;28;01mreturn\u001b[39;00m parser\n\u001b[0;32m    582\u001b[0m \u001b[38;5;28;01mwith\u001b[39;00m parser:\n\u001b[1;32m--> 583\u001b[0m     \u001b[38;5;28;01mreturn\u001b[39;00m parser\u001b[38;5;241m.\u001b[39mread(nrows)\n",
      "File \u001b[1;32m~\\anaconda3\\Lib\\site-packages\\pandas\\io\\parsers\\readers.py:1704\u001b[0m, in \u001b[0;36mTextFileReader.read\u001b[1;34m(self, nrows)\u001b[0m\n\u001b[0;32m   1697\u001b[0m nrows \u001b[38;5;241m=\u001b[39m validate_integer(\u001b[38;5;124m\"\u001b[39m\u001b[38;5;124mnrows\u001b[39m\u001b[38;5;124m\"\u001b[39m, nrows)\n\u001b[0;32m   1698\u001b[0m \u001b[38;5;28;01mtry\u001b[39;00m:\n\u001b[0;32m   1699\u001b[0m     \u001b[38;5;66;03m# error: \"ParserBase\" has no attribute \"read\"\u001b[39;00m\n\u001b[0;32m   1700\u001b[0m     (\n\u001b[0;32m   1701\u001b[0m         index,\n\u001b[0;32m   1702\u001b[0m         columns,\n\u001b[0;32m   1703\u001b[0m         col_dict,\n\u001b[1;32m-> 1704\u001b[0m     ) \u001b[38;5;241m=\u001b[39m \u001b[38;5;28mself\u001b[39m\u001b[38;5;241m.\u001b[39m_engine\u001b[38;5;241m.\u001b[39mread(  \u001b[38;5;66;03m# type: ignore[attr-defined]\u001b[39;00m\n\u001b[0;32m   1705\u001b[0m         nrows\n\u001b[0;32m   1706\u001b[0m     )\n\u001b[0;32m   1707\u001b[0m \u001b[38;5;28;01mexcept\u001b[39;00m \u001b[38;5;167;01mException\u001b[39;00m:\n\u001b[0;32m   1708\u001b[0m     \u001b[38;5;28mself\u001b[39m\u001b[38;5;241m.\u001b[39mclose()\n",
      "File \u001b[1;32m~\\anaconda3\\Lib\\site-packages\\pandas\\io\\parsers\\c_parser_wrapper.py:234\u001b[0m, in \u001b[0;36mCParserWrapper.read\u001b[1;34m(self, nrows)\u001b[0m\n\u001b[0;32m    232\u001b[0m \u001b[38;5;28;01mtry\u001b[39;00m:\n\u001b[0;32m    233\u001b[0m     \u001b[38;5;28;01mif\u001b[39;00m \u001b[38;5;28mself\u001b[39m\u001b[38;5;241m.\u001b[39mlow_memory:\n\u001b[1;32m--> 234\u001b[0m         chunks \u001b[38;5;241m=\u001b[39m \u001b[38;5;28mself\u001b[39m\u001b[38;5;241m.\u001b[39m_reader\u001b[38;5;241m.\u001b[39mread_low_memory(nrows)\n\u001b[0;32m    235\u001b[0m         \u001b[38;5;66;03m# destructive to chunks\u001b[39;00m\n\u001b[0;32m    236\u001b[0m         data \u001b[38;5;241m=\u001b[39m _concatenate_chunks(chunks)\n",
      "File \u001b[1;32m~\\anaconda3\\Lib\\site-packages\\pandas\\_libs\\parsers.pyx:814\u001b[0m, in \u001b[0;36mpandas._libs.parsers.TextReader.read_low_memory\u001b[1;34m()\u001b[0m\n",
      "File \u001b[1;32m~\\anaconda3\\Lib\\site-packages\\pandas\\_libs\\parsers.pyx:875\u001b[0m, in \u001b[0;36mpandas._libs.parsers.TextReader._read_rows\u001b[1;34m()\u001b[0m\n",
      "File \u001b[1;32m~\\anaconda3\\Lib\\site-packages\\pandas\\_libs\\parsers.pyx:850\u001b[0m, in \u001b[0;36mpandas._libs.parsers.TextReader._tokenize_rows\u001b[1;34m()\u001b[0m\n",
      "File \u001b[1;32m~\\anaconda3\\Lib\\site-packages\\pandas\\_libs\\parsers.pyx:861\u001b[0m, in \u001b[0;36mpandas._libs.parsers.TextReader._check_tokenize_status\u001b[1;34m()\u001b[0m\n",
      "File \u001b[1;32m~\\anaconda3\\Lib\\site-packages\\pandas\\_libs\\parsers.pyx:2029\u001b[0m, in \u001b[0;36mpandas._libs.parsers.raise_parser_error\u001b[1;34m()\u001b[0m\n",
      "\u001b[1;31mParserError\u001b[0m: Error tokenizing data. C error: Expected 1 fields in line 12, saw 2\n"
     ]
    }
   ],
   "source": [
    "import pandas as pd\n",
    "\n",
    "df_csv = pd.read_csv(\"http://localhost:8888/edit/%E6%8E%88%E8%AA%B2%E6%96%B9%E5%BC%8F%2C%E5%A7%93%E5%90%8D%2C%E5%AD%B8%E6%A0%A1.csv\")\n",
    "\n",
    "display(df_csv)"
   ]
  },
  {
   "cell_type": "code",
   "execution_count": 3,
   "id": "2c11459a",
   "metadata": {},
   "outputs": [
    {
     "data": {
      "text/html": [
       "<div>\n",
       "<style scoped>\n",
       "    .dataframe tbody tr th:only-of-type {\n",
       "        vertical-align: middle;\n",
       "    }\n",
       "\n",
       "    .dataframe tbody tr th {\n",
       "        vertical-align: top;\n",
       "    }\n",
       "\n",
       "    .dataframe thead th {\n",
       "        text-align: right;\n",
       "    }\n",
       "</style>\n",
       "<table border=\"1\" class=\"dataframe\">\n",
       "  <thead>\n",
       "    <tr style=\"text-align: right;\">\n",
       "      <th></th>\n",
       "      <th>授課方式</th>\n",
       "      <th>姓名</th>\n",
       "      <th>學校</th>\n",
       "    </tr>\n",
       "  </thead>\n",
       "  <tbody>\n",
       "    <tr>\n",
       "      <th>0</th>\n",
       "      <td>固定直播</td>\n",
       "      <td>顏鵬真</td>\n",
       "      <td>大直</td>\n",
       "    </tr>\n",
       "    <tr>\n",
       "      <th>1</th>\n",
       "      <td>固定直播</td>\n",
       "      <td>楊恩齊</td>\n",
       "      <td>新莊</td>\n",
       "    </tr>\n",
       "    <tr>\n",
       "      <th>2</th>\n",
       "      <td>固定直播</td>\n",
       "      <td>張廉崧</td>\n",
       "      <td>興附</td>\n",
       "    </tr>\n",
       "    <tr>\n",
       "      <th>3</th>\n",
       "      <td>固定直播</td>\n",
       "      <td>谷紘宇</td>\n",
       "      <td>西松</td>\n",
       "    </tr>\n",
       "    <tr>\n",
       "      <th>4</th>\n",
       "      <td>現場</td>\n",
       "      <td>林晏漁</td>\n",
       "      <td>松山</td>\n",
       "    </tr>\n",
       "    <tr>\n",
       "      <th>...</th>\n",
       "      <td>...</td>\n",
       "      <td>...</td>\n",
       "      <td>...</td>\n",
       "    </tr>\n",
       "    <tr>\n",
       "      <th>81</th>\n",
       "      <td>影片</td>\n",
       "      <td>賴思廷</td>\n",
       "      <td>大直</td>\n",
       "    </tr>\n",
       "    <tr>\n",
       "      <th>82</th>\n",
       "      <td>影片</td>\n",
       "      <td>陳家嫻</td>\n",
       "      <td>大直</td>\n",
       "    </tr>\n",
       "    <tr>\n",
       "      <th>83</th>\n",
       "      <td>影片</td>\n",
       "      <td>陳主崴</td>\n",
       "      <td>中山</td>\n",
       "    </tr>\n",
       "    <tr>\n",
       "      <th>84</th>\n",
       "      <td>影片</td>\n",
       "      <td>陳柏丞</td>\n",
       "      <td>百齡</td>\n",
       "    </tr>\n",
       "    <tr>\n",
       "      <th>85</th>\n",
       "      <td>影片</td>\n",
       "      <td>周楷茜</td>\n",
       "      <td>私復興</td>\n",
       "    </tr>\n",
       "  </tbody>\n",
       "</table>\n",
       "<p>86 rows × 3 columns</p>\n",
       "</div>"
      ],
      "text/plain": [
       "    授課方式   姓名   學校\n",
       "0   固定直播  顏鵬真   大直\n",
       "1   固定直播  楊恩齊   新莊\n",
       "2   固定直播  張廉崧   興附\n",
       "3   固定直播  谷紘宇   西松\n",
       "4     現場  林晏漁   松山\n",
       "..   ...  ...  ...\n",
       "81    影片  賴思廷   大直\n",
       "82    影片  陳家嫻   大直\n",
       "83    影片  陳主崴   中山\n",
       "84    影片  陳柏丞   百齡\n",
       "85    影片  周楷茜  私復興\n",
       "\n",
       "[86 rows x 3 columns]"
      ]
     },
     "metadata": {},
     "output_type": "display_data"
    }
   ],
   "source": [
    "import pandas as pd\n",
    "\n",
    "df_csv = pd.read_csv(\"work1.csv\")\n",
    "\n",
    "display(df_csv)"
   ]
  },
  {
   "cell_type": "code",
   "execution_count": 4,
   "id": "1c8fe47d",
   "metadata": {},
   "outputs": [
    {
     "ename": "SyntaxError",
     "evalue": "unmatched ')' (2544676681.py, line 1)",
     "output_type": "error",
     "traceback": [
      "\u001b[1;36m  Cell \u001b[1;32mIn[4], line 1\u001b[1;36m\u001b[0m\n\u001b[1;33m    df_csv = pd.read_csv(\"work1.csv\"), index_col=0)\u001b[0m\n\u001b[1;37m                                                  ^\u001b[0m\n\u001b[1;31mSyntaxError\u001b[0m\u001b[1;31m:\u001b[0m unmatched ')'\n"
     ]
    }
   ],
   "source": [
    "df_csv = pd.read_csv(\"work1.csv\"), index_col=0) "
   ]
  },
  {
   "cell_type": "code",
   "execution_count": 5,
   "id": "42fe27cc",
   "metadata": {},
   "outputs": [
    {
     "ename": "SyntaxError",
     "evalue": "unmatched ')' (2260374061.py, line 7)",
     "output_type": "error",
     "traceback": [
      "\u001b[1;36m  Cell \u001b[1;32mIn[5], line 7\u001b[1;36m\u001b[0m\n\u001b[1;33m    df_csv = pd.read_csv(\"work1.csv\"), index_col=0)\u001b[0m\n\u001b[1;37m                                                  ^\u001b[0m\n\u001b[1;31mSyntaxError\u001b[0m\u001b[1;31m:\u001b[0m unmatched ')'\n"
     ]
    }
   ],
   "source": [
    "import pandas as pd\n",
    "\n",
    "df_csv = pd.read_csv(\"work1.csv\")\n",
    "\n",
    "display(df_csv)\n",
    "\n",
    "df_csv = pd.read_csv(\"work1.csv\"), index_col=0) "
   ]
  },
  {
   "cell_type": "code",
   "execution_count": 6,
   "id": "736677b6",
   "metadata": {},
   "outputs": [
    {
     "ename": "SyntaxError",
     "evalue": "invalid syntax. Maybe you meant '==' or ':=' instead of '='? (2195457014.py, line 7)",
     "output_type": "error",
     "traceback": [
      "\u001b[1;36m  Cell \u001b[1;32mIn[6], line 7\u001b[1;36m\u001b[0m\n\u001b[1;33m    df_csv = pd.read_csv(\"work1.csv\"), index_col=0\u001b[0m\n\u001b[1;37m    ^\u001b[0m\n\u001b[1;31mSyntaxError\u001b[0m\u001b[1;31m:\u001b[0m invalid syntax. Maybe you meant '==' or ':=' instead of '='?\n"
     ]
    }
   ],
   "source": [
    "import pandas as pd\n",
    "\n",
    "df_csv = pd.read_csv(\"work1.csv\")\n",
    "\n",
    "display(df_csv)\n",
    "\n",
    "df_csv = pd.read_csv(\"work1.csv\"), index_col=0mport pandas as pd\n",
    "\n",
    "df = pd.read_csv('books.csv', encoding=\"utf-8\")\n",
    "\n",
    "data_set = set(tuple(row) for row in df.values)\n",
    "\n",
    "print(data_set)"
   ]
  },
  {
   "cell_type": "code",
   "execution_count": 7,
   "id": "8d866b89",
   "metadata": {},
   "outputs": [
    {
     "ename": "SyntaxError",
     "evalue": "invalid syntax (2764996752.py, line 1)",
     "output_type": "error",
     "traceback": [
      "\u001b[1;36m  Cell \u001b[1;32mIn[7], line 1\u001b[1;36m\u001b[0m\n\u001b[1;33m    mport pandas as pd\u001b[0m\n\u001b[1;37m          ^\u001b[0m\n\u001b[1;31mSyntaxError\u001b[0m\u001b[1;31m:\u001b[0m invalid syntax\n"
     ]
    }
   ],
   "source": [
    "mport pandas as pd\n",
    "\n",
    "df = pd.read_csv('work1.csv', encoding=\"utf-8\")\n",
    "\n",
    "data_set = set(tuple(row) for row in df.values)\n",
    "\n",
    "print(data_set)"
   ]
  },
  {
   "cell_type": "code",
   "execution_count": 8,
   "id": "8e9b1ff4",
   "metadata": {},
   "outputs": [
    {
     "name": "stdout",
     "output_type": "stream",
     "text": [
      "{('固定直播', '張廉崧', '興附'), ('現場', '李尚炫', '成功'), ('現場', '蔡政勳', '大直'), ('現場', '詹善宇', '大同'), ('現場', '葛嘉淇', '永春'), ('現場', '蘇洛', '松山'), ('現場', '李宥勳', '成功'), ('現場', '何昫謙', '大直'), ('現場', '游媗涵', '南湖'), ('現場', '張淯茗', '大直'), ('影片', '陳家嫻', '大直'), ('現場', '丁浩崴', '南湖'), ('現場', '黃暐翔', '大同'), ('現場', '蔡昕妤', '松山'), ('現場', '梁子宸', '大直'), ('現場', '王御倫', '大直'), ('現場', '吳柏言', '成功'), ('現場', '蔡澤森', '華江'), ('固定直播', '谷紘宇', '西松'), ('現場', '林晏漁', '松山'), ('現場', '蔡念哲', '永春'), ('現場', '施柏仰', '大直'), ('現場', '吳威佑', '永春'), ('現場', '鄭博丞', '大同'), ('現場', '林鉅凱', '大直'), ('現場', '葉昌叡', '板中'), ('現場', '張尹豪', '中崙'), ('現場', '彭于哲', '育成'), ('影片', '陳柏丞', '百齡'), ('現場', '陳薀歆', '北一'), ('現場', '黃家怡', '西松'), ('現場', '呂宇淏', '大直'), ('現場', '楊博尹', '附中'), ('現場', '劉佳典', '建中'), ('現場', '廖芃叡', '中和'), ('現場', '李冠熹', '建中'), ('現場', '陳庭瑋', '大同'), ('現場', '葉芮希', '中山'), ('現場', '劉宇溱', '陽明'), ('影片', '陳主崴', '中山'), ('現場', '陳儒億', '麗山'), ('現場', '謝安倫', '西松'), ('現場', '林宗錡', '成功'), ('影片', '賴思廷', '大直'), ('現場', '曾陳郁', '中崙'), ('現場', '王苡瑄', '中和'), ('現場', '楊博楷', '大同'), ('現場', '高羿翔', '和平'), ('現場', '陳祁佑', '大直'), ('現場', '謝嘉晉', '成功'), ('現場', '曾恬心', '松山'), ('現場', '曹世璿', '育成'), ('現場', '林靖閎', '內湖'), ('現場', '翁柏翔', '南湖'), ('現場', '董曜瑋', '大直'), ('現場', '柯東睿', '大理'), ('現場', '石嘉愷', '中正'), ('現場', '楊睿紘', '永春'), ('現場', '林詩恩', '中和'), ('影片', '周楷茜', '私復興'), ('現場', '王怡翔', '附中'), ('現場', '吳岱濤', '成功'), ('現場', '洪翊軒', '松山'), ('現場', '邱則維', '政附'), ('現場', '楊敘笙', '成功'), ('現場', '賴芃寯', '永平'), ('現場', '吳冠廷', '建中'), ('現場', '葉翃宇', '西松'), ('現場', '劉思妘', '南湖'), ('現場', '張瑋家', '中山'), ('現場', '邱致傑', '永春'), ('現場', '宋翊齊', '大直'), ('現場', '湯鈞文', '永春'), ('現場', '陳冠武', '成功'), ('固定直播', '顏鵬真', '大直'), ('現場', '顏鈺璇', '成淵'), ('現場', '黃瑞仲', '麗山'), ('現場', '韓前凱', '成功'), ('現場', '黃智揚', '大同'), ('固定直播', '楊恩齊', '新莊'), ('現場', '黃芃瑀', '中山'), ('現場', '周宸安', '中崙'), ('現場', '方守東', '光仁'), ('現場', '蔡芸欣', '永春'), ('現場', '楊宇弘', '附中'), ('現場', '楊凱閎', '再興')}\n"
     ]
    }
   ],
   "source": [
    "import pandas as pd\n",
    "\n",
    "df = pd.read_csv('work1.csv', encoding=\"utf-8\")\n",
    "\n",
    "data_set = set(tuple(row) for row in df.values)\n",
    "\n",
    "print(data_set)"
   ]
  },
  {
   "cell_type": "code",
   "execution_count": 9,
   "id": "2db5387e",
   "metadata": {},
   "outputs": [
    {
     "ename": "SyntaxError",
     "evalue": "invalid syntax (2689449367.py, line 9)",
     "output_type": "error",
     "traceback": [
      "\u001b[1;36m  Cell \u001b[1;32mIn[9], line 9\u001b[1;36m\u001b[0m\n\u001b[1;33m    set a = set(\"[學校]\")\u001b[0m\n\u001b[1;37m        ^\u001b[0m\n\u001b[1;31mSyntaxError\u001b[0m\u001b[1;31m:\u001b[0m invalid syntax\n"
     ]
    }
   ],
   "source": [
    "import pandas as pd\n",
    "\n",
    "df = pd.read_csv('work1.csv', encoding=\"utf-8\")\n",
    "\n",
    "data_set = set(tuple(row) for row in df.values)\n",
    "\n",
    "print(data_set)\n",
    "\n",
    "set a = set(\"[學校]\")\n",
    "set b = set(\"[姓名]\")"
   ]
  },
  {
   "cell_type": "code",
   "execution_count": 10,
   "id": "d4493556",
   "metadata": {},
   "outputs": [
    {
     "ename": "SyntaxError",
     "evalue": "invalid syntax (1166411777.py, line 9)",
     "output_type": "error",
     "traceback": [
      "\u001b[1;36m  Cell \u001b[1;32mIn[10], line 9\u001b[1;36m\u001b[0m\n\u001b[1;33m    set a = set(df\"[學校]\")\u001b[0m\n\u001b[1;37m        ^\u001b[0m\n\u001b[1;31mSyntaxError\u001b[0m\u001b[1;31m:\u001b[0m invalid syntax\n"
     ]
    }
   ],
   "source": [
    "import pandas as pd\n",
    "\n",
    "df = pd.read_csv('work1.csv', encoding=\"utf-8\")\n",
    "\n",
    "data_set = set(tuple(row) for row in df.values)\n",
    "\n",
    "print(data_set)\n",
    "\n",
    "set a = set(df\"[學校]\")\n",
    "set b = set(df\"[姓名]\")"
   ]
  },
  {
   "cell_type": "code",
   "execution_count": 11,
   "id": "bf5b8390",
   "metadata": {},
   "outputs": [
    {
     "ename": "SyntaxError",
     "evalue": "invalid syntax (3546477803.py, line 9)",
     "output_type": "error",
     "traceback": [
      "\u001b[1;36m  Cell \u001b[1;32mIn[11], line 9\u001b[1;36m\u001b[0m\n\u001b[1;33m    set a = set(df[\"學校\"])\u001b[0m\n\u001b[1;37m        ^\u001b[0m\n\u001b[1;31mSyntaxError\u001b[0m\u001b[1;31m:\u001b[0m invalid syntax\n"
     ]
    }
   ],
   "source": [
    "import pandas as pd\n",
    "\n",
    "df = pd.read_csv('work1.csv', encoding=\"utf-8\")\n",
    "\n",
    "data_set = set(tuple(row) for row in df.values)\n",
    "\n",
    "print(data_set)\n",
    "\n",
    "set a = set(df['學校'])\n",
    "set b = set(df['姓名'])"
   ]
  },
  {
   "cell_type": "code",
   "execution_count": 12,
   "id": "b4cb1b96",
   "metadata": {},
   "outputs": [
    {
     "ename": "SyntaxError",
     "evalue": "invalid syntax (3165957818.py, line 9)",
     "output_type": "error",
     "traceback": [
      "\u001b[1;36m  Cell \u001b[1;32mIn[12], line 9\u001b[1;36m\u001b[0m\n\u001b[1;33m    set a = set(df['學校'])\u001b[0m\n\u001b[1;37m        ^\u001b[0m\n\u001b[1;31mSyntaxError\u001b[0m\u001b[1;31m:\u001b[0m invalid syntax\n"
     ]
    }
   ],
   "source": [
    "import pandas as pd\n",
    "\n",
    "df = pd.read_csv('work1.csv', encoding=\"utf-8\")\n",
    "\n",
    "data_set = set(tuple(row) for row in df.values)\n",
    "\n",
    "print(data_set)\n",
    "\n",
    "set a = set(df['學校'])\n",
    "set b = set(df['姓名'])\n",
    "print(setA.union(setB))"
   ]
  },
  {
   "cell_type": "code",
   "execution_count": 13,
   "id": "f4387ea1",
   "metadata": {},
   "outputs": [
    {
     "name": "stdout",
     "output_type": "stream",
     "text": [
      "{('固定直播', '張廉崧', '興附'), ('現場', '李尚炫', '成功'), ('現場', '蔡政勳', '大直'), ('現場', '詹善宇', '大同'), ('現場', '葛嘉淇', '永春'), ('現場', '蘇洛', '松山'), ('現場', '李宥勳', '成功'), ('現場', '何昫謙', '大直'), ('現場', '游媗涵', '南湖'), ('現場', '張淯茗', '大直'), ('影片', '陳家嫻', '大直'), ('現場', '丁浩崴', '南湖'), ('現場', '黃暐翔', '大同'), ('現場', '蔡昕妤', '松山'), ('現場', '梁子宸', '大直'), ('現場', '王御倫', '大直'), ('現場', '吳柏言', '成功'), ('現場', '蔡澤森', '華江'), ('固定直播', '谷紘宇', '西松'), ('現場', '林晏漁', '松山'), ('現場', '蔡念哲', '永春'), ('現場', '施柏仰', '大直'), ('現場', '吳威佑', '永春'), ('現場', '鄭博丞', '大同'), ('現場', '林鉅凱', '大直'), ('現場', '葉昌叡', '板中'), ('現場', '張尹豪', '中崙'), ('現場', '彭于哲', '育成'), ('影片', '陳柏丞', '百齡'), ('現場', '陳薀歆', '北一'), ('現場', '黃家怡', '西松'), ('現場', '呂宇淏', '大直'), ('現場', '楊博尹', '附中'), ('現場', '劉佳典', '建中'), ('現場', '廖芃叡', '中和'), ('現場', '李冠熹', '建中'), ('現場', '陳庭瑋', '大同'), ('現場', '葉芮希', '中山'), ('現場', '劉宇溱', '陽明'), ('影片', '陳主崴', '中山'), ('現場', '陳儒億', '麗山'), ('現場', '謝安倫', '西松'), ('現場', '林宗錡', '成功'), ('影片', '賴思廷', '大直'), ('現場', '曾陳郁', '中崙'), ('現場', '王苡瑄', '中和'), ('現場', '楊博楷', '大同'), ('現場', '高羿翔', '和平'), ('現場', '陳祁佑', '大直'), ('現場', '謝嘉晉', '成功'), ('現場', '曾恬心', '松山'), ('現場', '曹世璿', '育成'), ('現場', '林靖閎', '內湖'), ('現場', '翁柏翔', '南湖'), ('現場', '董曜瑋', '大直'), ('現場', '柯東睿', '大理'), ('現場', '石嘉愷', '中正'), ('現場', '楊睿紘', '永春'), ('現場', '林詩恩', '中和'), ('影片', '周楷茜', '私復興'), ('現場', '王怡翔', '附中'), ('現場', '吳岱濤', '成功'), ('現場', '洪翊軒', '松山'), ('現場', '邱則維', '政附'), ('現場', '楊敘笙', '成功'), ('現場', '賴芃寯', '永平'), ('現場', '吳冠廷', '建中'), ('現場', '葉翃宇', '西松'), ('現場', '劉思妘', '南湖'), ('現場', '張瑋家', '中山'), ('現場', '邱致傑', '永春'), ('現場', '宋翊齊', '大直'), ('現場', '湯鈞文', '永春'), ('現場', '陳冠武', '成功'), ('固定直播', '顏鵬真', '大直'), ('現場', '顏鈺璇', '成淵'), ('現場', '黃瑞仲', '麗山'), ('現場', '韓前凱', '成功'), ('現場', '黃智揚', '大同'), ('固定直播', '楊恩齊', '新莊'), ('現場', '黃芃瑀', '中山'), ('現場', '周宸安', '中崙'), ('現場', '方守東', '光仁'), ('現場', '蔡芸欣', '永春'), ('現場', '楊宇弘', '附中'), ('現場', '楊凱閎', '再興')}\n"
     ]
    },
    {
     "ename": "NameError",
     "evalue": "name 'setA' is not defined",
     "output_type": "error",
     "traceback": [
      "\u001b[1;31m---------------------------------------------------------------------------\u001b[0m",
      "\u001b[1;31mNameError\u001b[0m                                 Traceback (most recent call last)",
      "Cell \u001b[1;32mIn[13], line 11\u001b[0m\n\u001b[0;32m      9\u001b[0m set1 \u001b[38;5;241m=\u001b[39m \u001b[38;5;28mset\u001b[39m(df[\u001b[38;5;124m'\u001b[39m\u001b[38;5;124m學校\u001b[39m\u001b[38;5;124m'\u001b[39m])\n\u001b[0;32m     10\u001b[0m set2 \u001b[38;5;241m=\u001b[39m \u001b[38;5;28mset\u001b[39m(df[\u001b[38;5;124m'\u001b[39m\u001b[38;5;124m姓名\u001b[39m\u001b[38;5;124m'\u001b[39m])\n\u001b[1;32m---> 11\u001b[0m \u001b[38;5;28mprint\u001b[39m(setA\u001b[38;5;241m.\u001b[39munion(setB))\n",
      "\u001b[1;31mNameError\u001b[0m: name 'setA' is not defined"
     ]
    }
   ],
   "source": [
    "import pandas as pd\n",
    "\n",
    "df = pd.read_csv('work1.csv', encoding=\"utf-8\")\n",
    "\n",
    "data_set = set(tuple(row) for row in df.values)\n",
    "\n",
    "print(data_set)\n",
    "\n",
    "set1 = set(df['學校'])\n",
    "set2 = set(df['姓名'])\n",
    "print(set1.union(set2))"
   ]
  },
  {
   "cell_type": "code",
   "execution_count": 14,
   "id": "8a55091f",
   "metadata": {},
   "outputs": [
    {
     "name": "stdout",
     "output_type": "stream",
     "text": [
      "{('固定直播', '張廉崧', '興附'), ('現場', '李尚炫', '成功'), ('現場', '蔡政勳', '大直'), ('現場', '詹善宇', '大同'), ('現場', '葛嘉淇', '永春'), ('現場', '蘇洛', '松山'), ('現場', '李宥勳', '成功'), ('現場', '何昫謙', '大直'), ('現場', '游媗涵', '南湖'), ('現場', '張淯茗', '大直'), ('影片', '陳家嫻', '大直'), ('現場', '丁浩崴', '南湖'), ('現場', '黃暐翔', '大同'), ('現場', '蔡昕妤', '松山'), ('現場', '梁子宸', '大直'), ('現場', '王御倫', '大直'), ('現場', '吳柏言', '成功'), ('現場', '蔡澤森', '華江'), ('固定直播', '谷紘宇', '西松'), ('現場', '林晏漁', '松山'), ('現場', '蔡念哲', '永春'), ('現場', '施柏仰', '大直'), ('現場', '吳威佑', '永春'), ('現場', '鄭博丞', '大同'), ('現場', '林鉅凱', '大直'), ('現場', '葉昌叡', '板中'), ('現場', '張尹豪', '中崙'), ('現場', '彭于哲', '育成'), ('影片', '陳柏丞', '百齡'), ('現場', '陳薀歆', '北一'), ('現場', '黃家怡', '西松'), ('現場', '呂宇淏', '大直'), ('現場', '楊博尹', '附中'), ('現場', '劉佳典', '建中'), ('現場', '廖芃叡', '中和'), ('現場', '李冠熹', '建中'), ('現場', '陳庭瑋', '大同'), ('現場', '葉芮希', '中山'), ('現場', '劉宇溱', '陽明'), ('影片', '陳主崴', '中山'), ('現場', '陳儒億', '麗山'), ('現場', '謝安倫', '西松'), ('現場', '林宗錡', '成功'), ('影片', '賴思廷', '大直'), ('現場', '曾陳郁', '中崙'), ('現場', '王苡瑄', '中和'), ('現場', '楊博楷', '大同'), ('現場', '高羿翔', '和平'), ('現場', '陳祁佑', '大直'), ('現場', '謝嘉晉', '成功'), ('現場', '曾恬心', '松山'), ('現場', '曹世璿', '育成'), ('現場', '林靖閎', '內湖'), ('現場', '翁柏翔', '南湖'), ('現場', '董曜瑋', '大直'), ('現場', '柯東睿', '大理'), ('現場', '石嘉愷', '中正'), ('現場', '楊睿紘', '永春'), ('現場', '林詩恩', '中和'), ('影片', '周楷茜', '私復興'), ('現場', '王怡翔', '附中'), ('現場', '吳岱濤', '成功'), ('現場', '洪翊軒', '松山'), ('現場', '邱則維', '政附'), ('現場', '楊敘笙', '成功'), ('現場', '賴芃寯', '永平'), ('現場', '吳冠廷', '建中'), ('現場', '葉翃宇', '西松'), ('現場', '劉思妘', '南湖'), ('現場', '張瑋家', '中山'), ('現場', '邱致傑', '永春'), ('現場', '宋翊齊', '大直'), ('現場', '湯鈞文', '永春'), ('現場', '陳冠武', '成功'), ('固定直播', '顏鵬真', '大直'), ('現場', '顏鈺璇', '成淵'), ('現場', '黃瑞仲', '麗山'), ('現場', '韓前凱', '成功'), ('現場', '黃智揚', '大同'), ('固定直播', '楊恩齊', '新莊'), ('現場', '黃芃瑀', '中山'), ('現場', '周宸安', '中崙'), ('現場', '方守東', '光仁'), ('現場', '蔡芸欣', '永春'), ('現場', '楊宇弘', '附中'), ('現場', '楊凱閎', '再興')}\n",
      "{'王御倫', '興附', '松山', '劉佳典', '板中', '光仁', '周宸安', '蔡芸欣', '成功', '張淯茗', '林詩恩', '陳薀歆', '李冠熹', '方守東', '顏鵬真', '蔡政勳', '謝嘉晉', '詹善宇', '內湖', '何昫謙', '王苡瑄', '周楷茜', '廖芃叡', '中崙', '彭于哲', '永平', '葉昌叡', '陳冠武', '林晏漁', '大直', '永春', '王怡翔', '蘇洛', '楊敘笙', '楊博尹', '蔡念哲', '陽明', '施柏仰', '陳柏丞', '陳祁佑', '張廉崧', '洪翊軒', '陳庭瑋', '顏鈺璇', '楊睿紘', '丁浩崴', '張尹豪', '北一', '石嘉愷', '賴思廷', '中和', '董曜瑋', '鄭博丞', '建中', '再興', '陳主崴', '楊恩齊', '邱則維', '楊博楷', '游媗涵', '賴芃寯', '黃瑞仲', '曾恬心', '劉宇溱', '曹世璿', '韓前凱', '谷紘宇', '和平', '百齡', '南湖', '私復興', '黃暐翔', '吳岱濤', '湯鈞文', '吳威佑', '蔡澤森', '林宗錡', '翁柏翔', '附中', '中山', '葉芮希', '高羿翔', '李宥勳', '黃芃瑀', '宋翊齊', '大同', '楊凱閎', '大理', '成淵', '西松', '新莊', '邱致傑', '李尚炫', '曾陳郁', '張瑋家', '林靖閎', '葛嘉淇', '柯東睿', '麗山', '吳冠廷', '劉思妘', '謝安倫', '育成', '吳柏言', '梁子宸', '陳家嫻', '葉翃宇', '華江', '蔡昕妤', '陳儒億', '楊宇弘', '政附', '林鉅凱', '中正', '黃智揚', '呂宇淏', '黃家怡'}\n"
     ]
    }
   ],
   "source": [
    "import pandas as pd\n",
    "\n",
    "df = pd.read_csv('work1.csv', encoding=\"utf-8\")\n",
    "\n",
    "data_set = set(tuple(row) for row in df.values)\n",
    "\n",
    "print(data_set)\n",
    "\n",
    "set1 = set(df['學校'])\n",
    "set2 = set(df['姓名'])\n",
    "print(set1.union(set2))"
   ]
  },
  {
   "cell_type": "code",
   "execution_count": 15,
   "id": "30897eef",
   "metadata": {},
   "outputs": [
    {
     "name": "stdout",
     "output_type": "stream",
     "text": [
      "{('固定直播', '張廉崧', '興附'), ('現場', '李尚炫', '成功'), ('現場', '蔡政勳', '大直'), ('現場', '詹善宇', '大同'), ('現場', '葛嘉淇', '永春'), ('現場', '蘇洛', '松山'), ('現場', '李宥勳', '成功'), ('現場', '何昫謙', '大直'), ('現場', '游媗涵', '南湖'), ('現場', '張淯茗', '大直'), ('影片', '陳家嫻', '大直'), ('現場', '丁浩崴', '南湖'), ('現場', '黃暐翔', '大同'), ('現場', '蔡昕妤', '松山'), ('現場', '梁子宸', '大直'), ('現場', '王御倫', '大直'), ('現場', '吳柏言', '成功'), ('現場', '蔡澤森', '華江'), ('固定直播', '谷紘宇', '西松'), ('現場', '林晏漁', '松山'), ('現場', '蔡念哲', '永春'), ('現場', '施柏仰', '大直'), ('現場', '吳威佑', '永春'), ('現場', '鄭博丞', '大同'), ('現場', '林鉅凱', '大直'), ('現場', '葉昌叡', '板中'), ('現場', '張尹豪', '中崙'), ('現場', '彭于哲', '育成'), ('影片', '陳柏丞', '百齡'), ('現場', '陳薀歆', '北一'), ('現場', '黃家怡', '西松'), ('現場', '呂宇淏', '大直'), ('現場', '楊博尹', '附中'), ('現場', '劉佳典', '建中'), ('現場', '廖芃叡', '中和'), ('現場', '李冠熹', '建中'), ('現場', '陳庭瑋', '大同'), ('現場', '葉芮希', '中山'), ('現場', '劉宇溱', '陽明'), ('影片', '陳主崴', '中山'), ('現場', '陳儒億', '麗山'), ('現場', '謝安倫', '西松'), ('現場', '林宗錡', '成功'), ('影片', '賴思廷', '大直'), ('現場', '曾陳郁', '中崙'), ('現場', '王苡瑄', '中和'), ('現場', '楊博楷', '大同'), ('現場', '高羿翔', '和平'), ('現場', '陳祁佑', '大直'), ('現場', '謝嘉晉', '成功'), ('現場', '曾恬心', '松山'), ('現場', '曹世璿', '育成'), ('現場', '林靖閎', '內湖'), ('現場', '翁柏翔', '南湖'), ('現場', '董曜瑋', '大直'), ('現場', '柯東睿', '大理'), ('現場', '石嘉愷', '中正'), ('現場', '楊睿紘', '永春'), ('現場', '林詩恩', '中和'), ('影片', '周楷茜', '私復興'), ('現場', '王怡翔', '附中'), ('現場', '吳岱濤', '成功'), ('現場', '洪翊軒', '松山'), ('現場', '邱則維', '政附'), ('現場', '楊敘笙', '成功'), ('現場', '賴芃寯', '永平'), ('現場', '吳冠廷', '建中'), ('現場', '葉翃宇', '西松'), ('現場', '劉思妘', '南湖'), ('現場', '張瑋家', '中山'), ('現場', '邱致傑', '永春'), ('現場', '宋翊齊', '大直'), ('現場', '湯鈞文', '永春'), ('現場', '陳冠武', '成功'), ('固定直播', '顏鵬真', '大直'), ('現場', '顏鈺璇', '成淵'), ('現場', '黃瑞仲', '麗山'), ('現場', '韓前凱', '成功'), ('現場', '黃智揚', '大同'), ('固定直播', '楊恩齊', '新莊'), ('現場', '黃芃瑀', '中山'), ('現場', '周宸安', '中崙'), ('現場', '方守東', '光仁'), ('現場', '蔡芸欣', '永春'), ('現場', '楊宇弘', '附中'), ('現場', '楊凱閎', '再興')}\n"
     ]
    },
    {
     "ename": "NameError",
     "evalue": "name 'A_set' is not defined",
     "output_type": "error",
     "traceback": [
      "\u001b[1;31m---------------------------------------------------------------------------\u001b[0m",
      "\u001b[1;31mNameError\u001b[0m                                 Traceback (most recent call last)",
      "Cell \u001b[1;32mIn[15], line 11\u001b[0m\n\u001b[0;32m      9\u001b[0m set1 \u001b[38;5;241m=\u001b[39m \u001b[38;5;28mset\u001b[39m(df[\u001b[38;5;124m'\u001b[39m\u001b[38;5;124m學校\u001b[39m\u001b[38;5;124m'\u001b[39m])\n\u001b[0;32m     10\u001b[0m set2 \u001b[38;5;241m=\u001b[39m \u001b[38;5;28mset\u001b[39m(df[\u001b[38;5;124m'\u001b[39m\u001b[38;5;124m姓名\u001b[39m\u001b[38;5;124m'\u001b[39m])\n\u001b[1;32m---> 11\u001b[0m AB_union \u001b[38;5;241m=\u001b[39m A_set \u001b[38;5;241m|\u001b[39m B_set\n\u001b[0;32m     12\u001b[0m \u001b[38;5;28mprint\u001b[39m(AB_union)\n",
      "\u001b[1;31mNameError\u001b[0m: name 'A_set' is not defined"
     ]
    }
   ],
   "source": [
    "import pandas as pd\n",
    "\n",
    "df = pd.read_csv('work1.csv', encoding=\"utf-8\")\n",
    "\n",
    "data_set = set(tuple(row) for row in df.values)\n",
    "\n",
    "print(data_set)\n",
    "\n",
    "set1 = set(df['學校'])\n",
    "set2 = set(df['姓名'])\n",
    "12_union = 1_set | 2_set\n",
    "print(12_union)"
   ]
  },
  {
   "cell_type": "code",
   "execution_count": 16,
   "id": "7be22635",
   "metadata": {},
   "outputs": [
    {
     "ename": "SyntaxError",
     "evalue": "invalid decimal literal (3487721293.py, line 11)",
     "output_type": "error",
     "traceback": [
      "\u001b[1;36m  Cell \u001b[1;32mIn[16], line 11\u001b[1;36m\u001b[0m\n\u001b[1;33m    12_union = 1_set | 2_set\u001b[0m\n\u001b[1;37m      ^\u001b[0m\n\u001b[1;31mSyntaxError\u001b[0m\u001b[1;31m:\u001b[0m invalid decimal literal\n"
     ]
    }
   ],
   "source": [
    "import pandas as pd\n",
    "\n",
    "df = pd.read_csv('work1.csv', encoding=\"utf-8\")\n",
    "\n",
    "data_set = set(tuple(row) for row in df.values)\n",
    "\n",
    "print(data_set)\n",
    "\n",
    "set1 = set(df['學校'])\n",
    "set2 = set(df['姓名'])\n",
    "AB_union = 1_set | 2_set\n",
    "print(AB_union)"
   ]
  },
  {
   "cell_type": "code",
   "execution_count": 17,
   "id": "9b7217ce",
   "metadata": {},
   "outputs": [
    {
     "ename": "SyntaxError",
     "evalue": "invalid decimal literal (2714971751.py, line 11)",
     "output_type": "error",
     "traceback": [
      "\u001b[1;36m  Cell \u001b[1;32mIn[17], line 11\u001b[1;36m\u001b[0m\n\u001b[1;33m    AB_union = 1_set | 2_set\u001b[0m\n\u001b[1;37m                ^\u001b[0m\n\u001b[1;31mSyntaxError\u001b[0m\u001b[1;31m:\u001b[0m invalid decimal literal\n"
     ]
    }
   ],
   "source": [
    "import pandas as pd\n",
    "\n",
    "df = pd.read_csv('work1.csv', encoding=\"utf-8\")\n",
    "\n",
    "data_set = set(tuple(row) for row in df.values)\n",
    "\n",
    "print(data_set)\n",
    "\n",
    "set1 = set(df['學校'])\n",
    "set2 = set(df['姓名'])\n",
    "AB_union = set1 | set2\n",
    "print(AB_union)"
   ]
  },
  {
   "cell_type": "code",
   "execution_count": 18,
   "id": "84ff13f4",
   "metadata": {},
   "outputs": [
    {
     "name": "stdout",
     "output_type": "stream",
     "text": [
      "{('固定直播', '張廉崧', '興附'), ('現場', '李尚炫', '成功'), ('現場', '蔡政勳', '大直'), ('現場', '詹善宇', '大同'), ('現場', '葛嘉淇', '永春'), ('現場', '蘇洛', '松山'), ('現場', '李宥勳', '成功'), ('現場', '何昫謙', '大直'), ('現場', '游媗涵', '南湖'), ('現場', '張淯茗', '大直'), ('影片', '陳家嫻', '大直'), ('現場', '丁浩崴', '南湖'), ('現場', '黃暐翔', '大同'), ('現場', '蔡昕妤', '松山'), ('現場', '梁子宸', '大直'), ('現場', '王御倫', '大直'), ('現場', '吳柏言', '成功'), ('現場', '蔡澤森', '華江'), ('固定直播', '谷紘宇', '西松'), ('現場', '林晏漁', '松山'), ('現場', '蔡念哲', '永春'), ('現場', '施柏仰', '大直'), ('現場', '吳威佑', '永春'), ('現場', '鄭博丞', '大同'), ('現場', '林鉅凱', '大直'), ('現場', '葉昌叡', '板中'), ('現場', '張尹豪', '中崙'), ('現場', '彭于哲', '育成'), ('影片', '陳柏丞', '百齡'), ('現場', '陳薀歆', '北一'), ('現場', '黃家怡', '西松'), ('現場', '呂宇淏', '大直'), ('現場', '楊博尹', '附中'), ('現場', '劉佳典', '建中'), ('現場', '廖芃叡', '中和'), ('現場', '李冠熹', '建中'), ('現場', '陳庭瑋', '大同'), ('現場', '葉芮希', '中山'), ('現場', '劉宇溱', '陽明'), ('影片', '陳主崴', '中山'), ('現場', '陳儒億', '麗山'), ('現場', '謝安倫', '西松'), ('現場', '林宗錡', '成功'), ('影片', '賴思廷', '大直'), ('現場', '曾陳郁', '中崙'), ('現場', '王苡瑄', '中和'), ('現場', '楊博楷', '大同'), ('現場', '高羿翔', '和平'), ('現場', '陳祁佑', '大直'), ('現場', '謝嘉晉', '成功'), ('現場', '曾恬心', '松山'), ('現場', '曹世璿', '育成'), ('現場', '林靖閎', '內湖'), ('現場', '翁柏翔', '南湖'), ('現場', '董曜瑋', '大直'), ('現場', '柯東睿', '大理'), ('現場', '石嘉愷', '中正'), ('現場', '楊睿紘', '永春'), ('現場', '林詩恩', '中和'), ('影片', '周楷茜', '私復興'), ('現場', '王怡翔', '附中'), ('現場', '吳岱濤', '成功'), ('現場', '洪翊軒', '松山'), ('現場', '邱則維', '政附'), ('現場', '楊敘笙', '成功'), ('現場', '賴芃寯', '永平'), ('現場', '吳冠廷', '建中'), ('現場', '葉翃宇', '西松'), ('現場', '劉思妘', '南湖'), ('現場', '張瑋家', '中山'), ('現場', '邱致傑', '永春'), ('現場', '宋翊齊', '大直'), ('現場', '湯鈞文', '永春'), ('現場', '陳冠武', '成功'), ('固定直播', '顏鵬真', '大直'), ('現場', '顏鈺璇', '成淵'), ('現場', '黃瑞仲', '麗山'), ('現場', '韓前凱', '成功'), ('現場', '黃智揚', '大同'), ('固定直播', '楊恩齊', '新莊'), ('現場', '黃芃瑀', '中山'), ('現場', '周宸安', '中崙'), ('現場', '方守東', '光仁'), ('現場', '蔡芸欣', '永春'), ('現場', '楊宇弘', '附中'), ('現場', '楊凱閎', '再興')}\n",
      "{'王御倫', '興附', '松山', '劉佳典', '板中', '光仁', '周宸安', '蔡芸欣', '成功', '張淯茗', '林詩恩', '陳薀歆', '李冠熹', '方守東', '顏鵬真', '蔡政勳', '謝嘉晉', '詹善宇', '內湖', '何昫謙', '王苡瑄', '周楷茜', '廖芃叡', '中崙', '彭于哲', '永平', '葉昌叡', '陳冠武', '林晏漁', '大直', '永春', '王怡翔', '蘇洛', '楊敘笙', '楊博尹', '蔡念哲', '陽明', '施柏仰', '陳柏丞', '陳祁佑', '張廉崧', '洪翊軒', '陳庭瑋', '顏鈺璇', '楊睿紘', '丁浩崴', '張尹豪', '北一', '石嘉愷', '賴思廷', '中和', '董曜瑋', '鄭博丞', '建中', '再興', '陳主崴', '楊恩齊', '邱則維', '楊博楷', '游媗涵', '賴芃寯', '黃瑞仲', '曾恬心', '劉宇溱', '曹世璿', '韓前凱', '谷紘宇', '和平', '百齡', '南湖', '私復興', '黃暐翔', '吳岱濤', '湯鈞文', '吳威佑', '蔡澤森', '林宗錡', '翁柏翔', '附中', '中山', '葉芮希', '高羿翔', '李宥勳', '黃芃瑀', '宋翊齊', '大同', '楊凱閎', '大理', '成淵', '西松', '新莊', '邱致傑', '李尚炫', '曾陳郁', '張瑋家', '林靖閎', '葛嘉淇', '柯東睿', '麗山', '吳冠廷', '劉思妘', '謝安倫', '育成', '吳柏言', '梁子宸', '陳家嫻', '葉翃宇', '華江', '蔡昕妤', '陳儒億', '楊宇弘', '政附', '林鉅凱', '中正', '黃智揚', '呂宇淏', '黃家怡'}\n"
     ]
    }
   ],
   "source": [
    "import pandas as pd\n",
    "\n",
    "df = pd.read_csv('work1.csv', encoding=\"utf-8\")\n",
    "\n",
    "data_set = set(tuple(row) for row in df.values)\n",
    "\n",
    "print(data_set)\n",
    "\n",
    "set1 = set(df['學校'])\n",
    "set2 = set(df['姓名'])\n",
    "AB_union = set1 | set2\n",
    "print(AB_union)"
   ]
  },
  {
   "cell_type": "code",
   "execution_count": 19,
   "id": "c99ba420",
   "metadata": {},
   "outputs": [
    {
     "name": "stdout",
     "output_type": "stream",
     "text": [
      "{('固定直播', '張廉崧', '興附'), ('現場', '李尚炫', '成功'), ('現場', '蔡政勳', '大直'), ('現場', '詹善宇', '大同'), ('現場', '葛嘉淇', '永春'), ('現場', '蘇洛', '松山'), ('現場', '李宥勳', '成功'), ('現場', '何昫謙', '大直'), ('現場', '游媗涵', '南湖'), ('現場', '張淯茗', '大直'), ('影片', '陳家嫻', '大直'), ('現場', '丁浩崴', '南湖'), ('現場', '黃暐翔', '大同'), ('現場', '蔡昕妤', '松山'), ('現場', '梁子宸', '大直'), ('現場', '王御倫', '大直'), ('現場', '吳柏言', '成功'), ('現場', '蔡澤森', '華江'), ('固定直播', '谷紘宇', '西松'), ('現場', '林晏漁', '松山'), ('現場', '蔡念哲', '永春'), ('現場', '施柏仰', '大直'), ('現場', '吳威佑', '永春'), ('現場', '鄭博丞', '大同'), ('現場', '林鉅凱', '大直'), ('現場', '葉昌叡', '板中'), ('現場', '張尹豪', '中崙'), ('現場', '彭于哲', '育成'), ('影片', '陳柏丞', '百齡'), ('現場', '陳薀歆', '北一'), ('現場', '黃家怡', '西松'), ('現場', '呂宇淏', '大直'), ('現場', '楊博尹', '附中'), ('現場', '劉佳典', '建中'), ('現場', '廖芃叡', '中和'), ('現場', '李冠熹', '建中'), ('現場', '陳庭瑋', '大同'), ('現場', '葉芮希', '中山'), ('現場', '劉宇溱', '陽明'), ('影片', '陳主崴', '中山'), ('現場', '陳儒億', '麗山'), ('現場', '謝安倫', '西松'), ('現場', '林宗錡', '成功'), ('影片', '賴思廷', '大直'), ('現場', '曾陳郁', '中崙'), ('現場', '王苡瑄', '中和'), ('現場', '楊博楷', '大同'), ('現場', '高羿翔', '和平'), ('現場', '陳祁佑', '大直'), ('現場', '謝嘉晉', '成功'), ('現場', '曾恬心', '松山'), ('現場', '曹世璿', '育成'), ('現場', '林靖閎', '內湖'), ('現場', '翁柏翔', '南湖'), ('現場', '董曜瑋', '大直'), ('現場', '柯東睿', '大理'), ('現場', '石嘉愷', '中正'), ('現場', '楊睿紘', '永春'), ('現場', '林詩恩', '中和'), ('影片', '周楷茜', '私復興'), ('現場', '王怡翔', '附中'), ('現場', '吳岱濤', '成功'), ('現場', '洪翊軒', '松山'), ('現場', '邱則維', '政附'), ('現場', '楊敘笙', '成功'), ('現場', '賴芃寯', '永平'), ('現場', '吳冠廷', '建中'), ('現場', '葉翃宇', '西松'), ('現場', '劉思妘', '南湖'), ('現場', '張瑋家', '中山'), ('現場', '邱致傑', '永春'), ('現場', '宋翊齊', '大直'), ('現場', '湯鈞文', '永春'), ('現場', '陳冠武', '成功'), ('固定直播', '顏鵬真', '大直'), ('現場', '顏鈺璇', '成淵'), ('現場', '黃瑞仲', '麗山'), ('現場', '韓前凱', '成功'), ('現場', '黃智揚', '大同'), ('固定直播', '楊恩齊', '新莊'), ('現場', '黃芃瑀', '中山'), ('現場', '周宸安', '中崙'), ('現場', '方守東', '光仁'), ('現場', '蔡芸欣', '永春'), ('現場', '楊宇弘', '附中'), ('現場', '楊凱閎', '再興')}\n",
      "聯集結果 {'王御倫', '興附', '松山', '劉佳典', '板中', '光仁', '周宸安', '蔡芸欣', '成功', '張淯茗', '林詩恩', '陳薀歆', '李冠熹', '方守東', '顏鵬真', '蔡政勳', '謝嘉晉', '詹善宇', '內湖', '何昫謙', '王苡瑄', '周楷茜', '廖芃叡', '中崙', '彭于哲', '永平', '葉昌叡', '陳冠武', '林晏漁', '大直', '永春', '王怡翔', '蘇洛', '楊敘笙', '楊博尹', '蔡念哲', '陽明', '施柏仰', '陳柏丞', '陳祁佑', '張廉崧', '洪翊軒', '陳庭瑋', '顏鈺璇', '楊睿紘', '丁浩崴', '張尹豪', '北一', '石嘉愷', '賴思廷', '中和', '董曜瑋', '鄭博丞', '建中', '再興', '陳主崴', '楊恩齊', '邱則維', '楊博楷', '游媗涵', '賴芃寯', '黃瑞仲', '曾恬心', '劉宇溱', '曹世璿', '韓前凱', '谷紘宇', '和平', '百齡', '南湖', '私復興', '黃暐翔', '吳岱濤', '湯鈞文', '吳威佑', '蔡澤森', '林宗錡', '翁柏翔', '附中', '中山', '葉芮希', '高羿翔', '李宥勳', '黃芃瑀', '宋翊齊', '大同', '楊凱閎', '大理', '成淵', '西松', '新莊', '邱致傑', '李尚炫', '曾陳郁', '張瑋家', '林靖閎', '葛嘉淇', '柯東睿', '麗山', '吳冠廷', '劉思妘', '謝安倫', '育成', '吳柏言', '梁子宸', '陳家嫻', '葉翃宇', '華江', '蔡昕妤', '陳儒億', '楊宇弘', '政附', '林鉅凱', '中正', '黃智揚', '呂宇淏', '黃家怡'}\n"
     ]
    }
   ],
   "source": [
    "import pandas as pd\n",
    "\n",
    "df = pd.read_csv('work1.csv', encoding=\"utf-8\")\n",
    "\n",
    "data_set = set(tuple(row) for row in df.values)\n",
    "\n",
    "print(data_set)\n",
    "\n",
    "set1 = set(df['學校'])\n",
    "set2 = set(df['姓名'])\n",
    "AB_union = set1 | set2\n",
    "print(\"聯集結果:\",AB_union)"
   ]
  },
  {
   "cell_type": "code",
   "execution_count": 21,
   "id": "dfbe92b9",
   "metadata": {},
   "outputs": [
    {
     "ename": "SyntaxError",
     "evalue": "invalid decimal literal (3679807302.py, line 11)",
     "output_type": "error",
     "traceback": [
      "\u001b[1;36m  Cell \u001b[1;32mIn[21], line 11\u001b[1;36m\u001b[0m\n\u001b[1;33m    AB_intersection = 1_set & 2_set\u001b[0m\n\u001b[1;37m                       ^\u001b[0m\n\u001b[1;31mSyntaxError\u001b[0m\u001b[1;31m:\u001b[0m invalid decimal literal\n"
     ]
    }
   ],
   "source": [
    "import pandas as pd\n",
    "\n",
    "df = pd.read_csv('work1.csv', encoding=\"utf-8\")\n",
    "\n",
    "data_set = set(tuple(row) for row in df.values)\n",
    "\n",
    "print(data_set)\n",
    "\n",
    "set1 = set(df['學校'])\n",
    "set2 = set(df['姓名'])\n",
    "AB_intersection = 1_set & 2_set\n",
    "print(\"交集結果:\",AB_intersection)"
   ]
  },
  {
   "cell_type": "code",
   "execution_count": 22,
   "id": "7986d846",
   "metadata": {},
   "outputs": [
    {
     "ename": "SyntaxError",
     "evalue": "invalid decimal literal (3679807302.py, line 11)",
     "output_type": "error",
     "traceback": [
      "\u001b[1;36m  Cell \u001b[1;32mIn[22], line 11\u001b[1;36m\u001b[0m\n\u001b[1;33m    AB_intersection = 1_set & 2_set\u001b[0m\n\u001b[1;37m                       ^\u001b[0m\n\u001b[1;31mSyntaxError\u001b[0m\u001b[1;31m:\u001b[0m invalid decimal literal\n"
     ]
    }
   ],
   "source": [
    "import pandas as pd\n",
    "\n",
    "df = pd.read_csv('work1.csv', encoding=\"utf-8\")\n",
    "\n",
    "data_set = set(tuple(row) for row in df.values)\n",
    "\n",
    "print(data_set)\n",
    "\n",
    "set1 = set(df['學校'])\n",
    "set2 = set(df['姓名'])\n",
    "AB_intersection = set1 & set2\n",
    "print(\"學校和姓名的交集:\")\n",
    "print(AB_intersection)"
   ]
  },
  {
   "cell_type": "code",
   "execution_count": 23,
   "id": "963120ab",
   "metadata": {},
   "outputs": [
    {
     "name": "stdout",
     "output_type": "stream",
     "text": [
      "{('固定直播', '張廉崧', '興附'), ('現場', '李尚炫', '成功'), ('現場', '蔡政勳', '大直'), ('現場', '詹善宇', '大同'), ('現場', '葛嘉淇', '永春'), ('現場', '蘇洛', '松山'), ('現場', '李宥勳', '成功'), ('現場', '何昫謙', '大直'), ('現場', '游媗涵', '南湖'), ('現場', '張淯茗', '大直'), ('影片', '陳家嫻', '大直'), ('現場', '丁浩崴', '南湖'), ('現場', '黃暐翔', '大同'), ('現場', '蔡昕妤', '松山'), ('現場', '梁子宸', '大直'), ('現場', '王御倫', '大直'), ('現場', '吳柏言', '成功'), ('現場', '蔡澤森', '華江'), ('固定直播', '谷紘宇', '西松'), ('現場', '林晏漁', '松山'), ('現場', '蔡念哲', '永春'), ('現場', '施柏仰', '大直'), ('現場', '吳威佑', '永春'), ('現場', '鄭博丞', '大同'), ('現場', '林鉅凱', '大直'), ('現場', '葉昌叡', '板中'), ('現場', '張尹豪', '中崙'), ('現場', '彭于哲', '育成'), ('影片', '陳柏丞', '百齡'), ('現場', '陳薀歆', '北一'), ('現場', '黃家怡', '西松'), ('現場', '呂宇淏', '大直'), ('現場', '楊博尹', '附中'), ('現場', '劉佳典', '建中'), ('現場', '廖芃叡', '中和'), ('現場', '李冠熹', '建中'), ('現場', '陳庭瑋', '大同'), ('現場', '葉芮希', '中山'), ('現場', '劉宇溱', '陽明'), ('影片', '陳主崴', '中山'), ('現場', '陳儒億', '麗山'), ('現場', '謝安倫', '西松'), ('現場', '林宗錡', '成功'), ('影片', '賴思廷', '大直'), ('現場', '曾陳郁', '中崙'), ('現場', '王苡瑄', '中和'), ('現場', '楊博楷', '大同'), ('現場', '高羿翔', '和平'), ('現場', '陳祁佑', '大直'), ('現場', '謝嘉晉', '成功'), ('現場', '曾恬心', '松山'), ('現場', '曹世璿', '育成'), ('現場', '林靖閎', '內湖'), ('現場', '翁柏翔', '南湖'), ('現場', '董曜瑋', '大直'), ('現場', '柯東睿', '大理'), ('現場', '石嘉愷', '中正'), ('現場', '楊睿紘', '永春'), ('現場', '林詩恩', '中和'), ('影片', '周楷茜', '私復興'), ('現場', '王怡翔', '附中'), ('現場', '吳岱濤', '成功'), ('現場', '洪翊軒', '松山'), ('現場', '邱則維', '政附'), ('現場', '楊敘笙', '成功'), ('現場', '賴芃寯', '永平'), ('現場', '吳冠廷', '建中'), ('現場', '葉翃宇', '西松'), ('現場', '劉思妘', '南湖'), ('現場', '張瑋家', '中山'), ('現場', '邱致傑', '永春'), ('現場', '宋翊齊', '大直'), ('現場', '湯鈞文', '永春'), ('現場', '陳冠武', '成功'), ('固定直播', '顏鵬真', '大直'), ('現場', '顏鈺璇', '成淵'), ('現場', '黃瑞仲', '麗山'), ('現場', '韓前凱', '成功'), ('現場', '黃智揚', '大同'), ('固定直播', '楊恩齊', '新莊'), ('現場', '黃芃瑀', '中山'), ('現場', '周宸安', '中崙'), ('現場', '方守東', '光仁'), ('現場', '蔡芸欣', '永春'), ('現場', '楊宇弘', '附中'), ('現場', '楊凱閎', '再興')}\n",
      "學校和姓名的交集:\n",
      "set()\n"
     ]
    }
   ],
   "source": [
    "import pandas as pd\n",
    "\n",
    "df = pd.read_csv('work1.csv', encoding=\"utf-8\")\n",
    "\n",
    "data_set = set(tuple(row) for row in df.values)\n",
    "\n",
    "print(data_set)\n",
    "\n",
    "set1 = set(df['學校'])\n",
    "set2 = set(df['姓名'])\n",
    "AB_union = set1 | set2\n",
    "print(\"聯集結果:\",AB_union)\n",
    "AB_intersection = set1 & set2\n",
    "print(\"學校和姓名的交集:\")\n",
    "print(AB_intersection)\n",
    "school_not_in_name = set1 - set2\n",
    "print(\"只在學校中出現，但不在姓名中出現的差集:\")\n",
    "print(school_not_in_name)\n",
    "name_not_in_school = set2 - set1\n",
    "print(\"只在姓名中出現，但不在學校中出現的差集:\")\n",
    "print(name_not_in_school)"
   ]
  },
  {
   "cell_type": "code",
   "execution_count": 24,
   "id": "7ef50bcd",
   "metadata": {},
   "outputs": [
    {
     "name": "stdout",
     "output_type": "stream",
     "text": [
      "{('固定直播', '張廉崧', '興附'), ('現場', '李尚炫', '成功'), ('現場', '蔡政勳', '大直'), ('現場', '詹善宇', '大同'), ('現場', '葛嘉淇', '永春'), ('現場', '蘇洛', '松山'), ('現場', '李宥勳', '成功'), ('現場', '何昫謙', '大直'), ('現場', '游媗涵', '南湖'), ('現場', '張淯茗', '大直'), ('影片', '陳家嫻', '大直'), ('現場', '丁浩崴', '南湖'), ('現場', '黃暐翔', '大同'), ('現場', '蔡昕妤', '松山'), ('現場', '梁子宸', '大直'), ('現場', '王御倫', '大直'), ('現場', '吳柏言', '成功'), ('現場', '蔡澤森', '華江'), ('固定直播', '谷紘宇', '西松'), ('現場', '林晏漁', '松山'), ('現場', '蔡念哲', '永春'), ('現場', '施柏仰', '大直'), ('現場', '吳威佑', '永春'), ('現場', '鄭博丞', '大同'), ('現場', '林鉅凱', '大直'), ('現場', '葉昌叡', '板中'), ('現場', '張尹豪', '中崙'), ('現場', '彭于哲', '育成'), ('影片', '陳柏丞', '百齡'), ('現場', '陳薀歆', '北一'), ('現場', '黃家怡', '西松'), ('現場', '呂宇淏', '大直'), ('現場', '楊博尹', '附中'), ('現場', '劉佳典', '建中'), ('現場', '廖芃叡', '中和'), ('現場', '李冠熹', '建中'), ('現場', '陳庭瑋', '大同'), ('現場', '葉芮希', '中山'), ('現場', '劉宇溱', '陽明'), ('影片', '陳主崴', '中山'), ('現場', '陳儒億', '麗山'), ('現場', '謝安倫', '西松'), ('現場', '林宗錡', '成功'), ('影片', '賴思廷', '大直'), ('現場', '曾陳郁', '中崙'), ('現場', '王苡瑄', '中和'), ('現場', '楊博楷', '大同'), ('現場', '高羿翔', '和平'), ('現場', '陳祁佑', '大直'), ('現場', '謝嘉晉', '成功'), ('現場', '曾恬心', '松山'), ('現場', '曹世璿', '育成'), ('現場', '林靖閎', '內湖'), ('現場', '翁柏翔', '南湖'), ('現場', '董曜瑋', '大直'), ('現場', '柯東睿', '大理'), ('現場', '石嘉愷', '中正'), ('現場', '楊睿紘', '永春'), ('現場', '林詩恩', '中和'), ('影片', '周楷茜', '私復興'), ('現場', '王怡翔', '附中'), ('現場', '吳岱濤', '成功'), ('現場', '洪翊軒', '松山'), ('現場', '邱則維', '政附'), ('現場', '楊敘笙', '成功'), ('現場', '賴芃寯', '永平'), ('現場', '吳冠廷', '建中'), ('現場', '葉翃宇', '西松'), ('現場', '劉思妘', '南湖'), ('現場', '張瑋家', '中山'), ('現場', '邱致傑', '永春'), ('現場', '宋翊齊', '大直'), ('現場', '湯鈞文', '永春'), ('現場', '陳冠武', '成功'), ('固定直播', '顏鵬真', '大直'), ('現場', '顏鈺璇', '成淵'), ('現場', '黃瑞仲', '麗山'), ('現場', '韓前凱', '成功'), ('現場', '黃智揚', '大同'), ('固定直播', '楊恩齊', '新莊'), ('現場', '黃芃瑀', '中山'), ('現場', '周宸安', '中崙'), ('現場', '方守東', '光仁'), ('現場', '蔡芸欣', '永春'), ('現場', '楊宇弘', '附中'), ('現場', '楊凱閎', '再興')}\n",
      "聯集結果: {'王御倫', '興附', '松山', '劉佳典', '板中', '光仁', '周宸安', '蔡芸欣', '成功', '張淯茗', '林詩恩', '陳薀歆', '李冠熹', '方守東', '顏鵬真', '蔡政勳', '謝嘉晉', '詹善宇', '內湖', '何昫謙', '王苡瑄', '周楷茜', '廖芃叡', '中崙', '彭于哲', '永平', '葉昌叡', '陳冠武', '林晏漁', '大直', '永春', '王怡翔', '蘇洛', '楊敘笙', '楊博尹', '蔡念哲', '陽明', '施柏仰', '陳柏丞', '陳祁佑', '張廉崧', '洪翊軒', '陳庭瑋', '顏鈺璇', '楊睿紘', '丁浩崴', '張尹豪', '北一', '石嘉愷', '賴思廷', '中和', '董曜瑋', '鄭博丞', '建中', '再興', '陳主崴', '楊恩齊', '邱則維', '楊博楷', '游媗涵', '賴芃寯', '黃瑞仲', '曾恬心', '劉宇溱', '曹世璿', '韓前凱', '谷紘宇', '和平', '百齡', '南湖', '私復興', '黃暐翔', '吳岱濤', '湯鈞文', '吳威佑', '蔡澤森', '林宗錡', '翁柏翔', '附中', '中山', '葉芮希', '高羿翔', '李宥勳', '黃芃瑀', '宋翊齊', '大同', '楊凱閎', '大理', '成淵', '西松', '新莊', '邱致傑', '李尚炫', '曾陳郁', '張瑋家', '林靖閎', '葛嘉淇', '柯東睿', '麗山', '吳冠廷', '劉思妘', '謝安倫', '育成', '吳柏言', '梁子宸', '陳家嫻', '葉翃宇', '華江', '蔡昕妤', '陳儒億', '楊宇弘', '政附', '林鉅凱', '中正', '黃智揚', '呂宇淏', '黃家怡'}\n",
      "學校和姓名的交集:\n",
      "set()\n",
      "只在學校中出現，但不在姓名中出現的差集:\n",
      "{'興附', '松山', '板中', '光仁', '成功', '內湖', '和平', '百齡', '中崙', '南湖', '私復興', '永平', '大直', '中山', '永春', '附中', '大同', '陽明', '大理', '成淵', '西松', '新莊', '麗山', '北一', '育成', '中和', '華江', '政附', '建中', '再興', '中正'}\n",
      "只在姓名中出現，但不在學校中出現的差集:\n",
      "{'周宸安', '李冠熹', '張淯茗', '林詩恩', '陳薀歆', '方守東', '蔡政勳', '謝嘉晉', '何昫謙', '王苡瑄', '陳冠武', '林晏漁', '王怡翔', '楊敘笙', '楊博尹', '施柏仰', '陳柏丞', '陳祁佑', '張廉崧', '洪翊軒', '陳庭瑋', '顏鈺璇', '張尹豪', '賴思廷', '董曜瑋', '陳主崴', '楊恩齊', '賴芃寯', '劉宇溱', '曹世璿', '韓前凱', '黃暐翔', '吳岱濤', '吳威佑', '蔡澤森', '高羿翔', '李宥勳', '黃芃瑀', '邱致傑', '李尚炫', '林靖閎', '葛嘉淇', '柯東睿', '吳冠廷', '謝安倫', '吳柏言', '梁子宸', '葉芮希', '呂宇淏', '黃家怡', '王御倫', '劉佳典', '蔡芸欣', '葉翃宇', '劉思妘', '顏鵬真', '詹善宇', '周楷茜', '廖芃叡', '彭于哲', '蘇洛', '蔡念哲', '楊睿紘', '丁浩崴', '石嘉愷', '鄭博丞', '邱則維', '楊博楷', '游媗涵', '黃瑞仲', '曾恬心', '谷紘宇', '湯鈞文', '林宗錡', '翁柏翔', '宋翊齊', '楊凱閎', '曾陳郁', '張瑋家', '陳家嫻', '蔡昕妤', '陳儒億', '楊宇弘', '林鉅凱', '黃智揚', '葉昌叡'}\n"
     ]
    }
   ],
   "source": [
    "import pandas as pd\n",
    "\n",
    "df = pd.read_csv('work1.csv', encoding=\"utf-8\")\n",
    "\n",
    "data_set = set(tuple(row) for row in df.values)\n",
    "\n",
    "print(data_set)\n",
    "\n",
    "set1 = set(df['學校'])\n",
    "set2 = set(df['姓名'])\n",
    "AB_union = set1 | set2\n",
    "print(\"聯集結果:\",AB_union)\n",
    "AB_intersection = set1 & set2\n",
    "print(\"學校和姓名的交集:\")\n",
    "print(AB_intersection)\n",
    "school_not_in_name = set1 - set2\n",
    "print(\"只在學校中出現，但不在姓名中出現的差集:\")\n",
    "print(school_not_in_name)\n",
    "name_not_in_school = set2 - set1\n",
    "print(\"只在姓名中出現，但不在學校中出現的差集:\")\n",
    "print(name_not_in_school)"
   ]
  },
  {
   "cell_type": "code",
   "execution_count": null,
   "id": "c0d9e7a7",
   "metadata": {},
   "outputs": [],
   "source": []
  }
 ],
 "metadata": {
  "kernelspec": {
   "display_name": "Python 3 (ipykernel)",
   "language": "python",
   "name": "python3"
  },
  "language_info": {
   "codemirror_mode": {
    "name": "ipython",
    "version": 3
   },
   "file_extension": ".py",
   "mimetype": "text/x-python",
   "name": "python",
   "nbconvert_exporter": "python",
   "pygments_lexer": "ipython3",
   "version": "3.11.5"
  }
 },
 "nbformat": 4,
 "nbformat_minor": 5
}
